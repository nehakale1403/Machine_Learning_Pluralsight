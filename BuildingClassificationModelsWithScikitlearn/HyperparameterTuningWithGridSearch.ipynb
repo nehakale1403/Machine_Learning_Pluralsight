{
 "cells": [
  {
   "cell_type": "code",
   "execution_count": 1,
   "metadata": {},
   "outputs": [],
   "source": [
    "import pandas as pd\n",
    "import numpy as np\n",
    "\n",
    "from sklearn.model_selection import train_test_split\n",
    "from sklearn.metrics import accuracy_score\n",
    "from sklearn.metrics import precision_score\n",
    "from sklearn.metrics import recall_score\n",
    "\n",
    "from sklearn.linear_model import LogisticRegression\n",
    "from sklearn.tree import DecisionTreeClassifier"
   ]
  },
  {
   "cell_type": "code",
   "execution_count": 3,
   "metadata": {},
   "outputs": [
    {
     "data": {
      "text/html": [
       "<div>\n",
       "<style scoped>\n",
       "    .dataframe tbody tr th:only-of-type {\n",
       "        vertical-align: middle;\n",
       "    }\n",
       "\n",
       "    .dataframe tbody tr th {\n",
       "        vertical-align: top;\n",
       "    }\n",
       "\n",
       "    .dataframe thead th {\n",
       "        text-align: right;\n",
       "    }\n",
       "</style>\n",
       "<table border=\"1\" class=\"dataframe\">\n",
       "  <thead>\n",
       "    <tr style=\"text-align: right;\">\n",
       "      <th></th>\n",
       "      <th>Survived</th>\n",
       "      <th>Pclass</th>\n",
       "      <th>Sex</th>\n",
       "      <th>Age</th>\n",
       "      <th>SibSp</th>\n",
       "      <th>Parch</th>\n",
       "      <th>Fare</th>\n",
       "      <th>Embarked_C</th>\n",
       "      <th>Embarked_Q</th>\n",
       "      <th>Embarked_S</th>\n",
       "    </tr>\n",
       "  </thead>\n",
       "  <tbody>\n",
       "    <tr>\n",
       "      <th>0</th>\n",
       "      <td>1</td>\n",
       "      <td>1</td>\n",
       "      <td>0</td>\n",
       "      <td>47.0</td>\n",
       "      <td>1</td>\n",
       "      <td>1</td>\n",
       "      <td>52.5542</td>\n",
       "      <td>0</td>\n",
       "      <td>0</td>\n",
       "      <td>1</td>\n",
       "    </tr>\n",
       "    <tr>\n",
       "      <th>1</th>\n",
       "      <td>0</td>\n",
       "      <td>3</td>\n",
       "      <td>1</td>\n",
       "      <td>17.0</td>\n",
       "      <td>1</td>\n",
       "      <td>1</td>\n",
       "      <td>7.2292</td>\n",
       "      <td>1</td>\n",
       "      <td>0</td>\n",
       "      <td>0</td>\n",
       "    </tr>\n",
       "    <tr>\n",
       "      <th>2</th>\n",
       "      <td>1</td>\n",
       "      <td>1</td>\n",
       "      <td>0</td>\n",
       "      <td>33.0</td>\n",
       "      <td>1</td>\n",
       "      <td>0</td>\n",
       "      <td>53.1000</td>\n",
       "      <td>0</td>\n",
       "      <td>0</td>\n",
       "      <td>1</td>\n",
       "    </tr>\n",
       "    <tr>\n",
       "      <th>3</th>\n",
       "      <td>0</td>\n",
       "      <td>1</td>\n",
       "      <td>1</td>\n",
       "      <td>54.0</td>\n",
       "      <td>0</td>\n",
       "      <td>0</td>\n",
       "      <td>51.8625</td>\n",
       "      <td>0</td>\n",
       "      <td>0</td>\n",
       "      <td>1</td>\n",
       "    </tr>\n",
       "    <tr>\n",
       "      <th>4</th>\n",
       "      <td>0</td>\n",
       "      <td>3</td>\n",
       "      <td>1</td>\n",
       "      <td>20.0</td>\n",
       "      <td>0</td>\n",
       "      <td>0</td>\n",
       "      <td>8.6625</td>\n",
       "      <td>0</td>\n",
       "      <td>0</td>\n",
       "      <td>1</td>\n",
       "    </tr>\n",
       "  </tbody>\n",
       "</table>\n",
       "</div>"
      ],
      "text/plain": [
       "   Survived  Pclass  Sex   Age  SibSp  Parch     Fare  Embarked_C  Embarked_Q  \\\n",
       "0         1       1    0  47.0      1      1  52.5542           0           0   \n",
       "1         0       3    1  17.0      1      1   7.2292           1           0   \n",
       "2         1       1    0  33.0      1      0  53.1000           0           0   \n",
       "3         0       1    1  54.0      0      0  51.8625           0           0   \n",
       "4         0       3    1  20.0      0      0   8.6625           0           0   \n",
       "\n",
       "   Embarked_S  \n",
       "0           1  \n",
       "1           0  \n",
       "2           1  \n",
       "3           1  \n",
       "4           1  "
      ]
     },
     "execution_count": 3,
     "metadata": {},
     "output_type": "execute_result"
    }
   ],
   "source": [
    "titanic_df = pd.read_csv('datasets/titanic_processed')\n",
    "\n",
    "titanic_df.head()"
   ]
  },
  {
   "cell_type": "code",
   "execution_count": 4,
   "metadata": {},
   "outputs": [],
   "source": [
    "x = titanic_df.drop('Survived', axis = 1)\n",
    "y = titanic_df['Survived']\n",
    "\n",
    "x_train, x_test, y_train, y_test = train_test_split(x,y, test_size=0.2)"
   ]
  },
  {
   "cell_type": "code",
   "execution_count": 6,
   "metadata": {},
   "outputs": [],
   "source": [
    "def summarize_classification(y_test, y_pred):\n",
    "    acc = accuracy_score(y_test, y_pred, normalize = True)\n",
    "    num_acc = accuracy_score(y_test, y_pred, normalize = False)\n",
    "    \n",
    "    prec = precision_score(y_test, y_pred)\n",
    "    recall = recall_score(y_test, y_pred)\n",
    "    \n",
    "    print('Test data count: ', len(y_test))\n",
    "    print('accuracy score: ', acc)\n",
    "    print('accuracy count: ', num_acc)\n",
    "    print('precision: ', prec)\n",
    "    print('recall: ',  recall)\n",
    "    print()"
   ]
  },
  {
   "cell_type": "code",
   "execution_count": 7,
   "metadata": {},
   "outputs": [
    {
     "data": {
      "text/plain": [
       "{'max_depth': 4}"
      ]
     },
     "execution_count": 7,
     "metadata": {},
     "output_type": "execute_result"
    }
   ],
   "source": [
    "from sklearn.model_selection import GridSearchCV\n",
    "\n",
    "parameters = {'max_depth': [2,4,5,7,9,10]}\n",
    "\n",
    "grid_search = GridSearchCV(DecisionTreeClassifier(), parameters, cv=3, return_train_score = True)\n",
    "grid_search.fit(x_train, y_train)\n",
    "\n",
    "grid_search.best_params_"
   ]
  },
  {
   "cell_type": "code",
   "execution_count": 8,
   "metadata": {},
   "outputs": [
    {
     "name": "stdout",
     "output_type": "stream",
     "text": [
      "Parameters:  {'max_depth': 2}\n",
      "Mean Test Score:  0.7723799026361716\n",
      "Rank:  3\n",
      "Parameters:  {'max_depth': 4}\n",
      "Mean Test Score:  0.781078350326077\n",
      "Rank:  1\n",
      "Parameters:  {'max_depth': 5}\n",
      "Mean Test Score:  0.7775787636630844\n",
      "Rank:  2\n",
      "Parameters:  {'max_depth': 7}\n",
      "Mean Test Score:  0.7723431615688435\n",
      "Rank:  4\n",
      "Parameters:  {'max_depth': 9}\n",
      "Mean Test Score:  0.7530724717553046\n",
      "Rank:  6\n",
      "Parameters:  {'max_depth': 10}\n",
      "Mean Test Score:  0.7548176724533847\n",
      "Rank:  5\n"
     ]
    }
   ],
   "source": [
    "for i in range(6):\n",
    "    print('Parameters: ', grid_search.cv_results_['params'][i])\n",
    "    \n",
    "    print('Mean Test Score: ', grid_search.cv_results_['mean_test_score'][i])\n",
    "    \n",
    "    print('Rank: ', grid_search.cv_results_['rank_test_score'][i])"
   ]
  },
  {
   "cell_type": "code",
   "execution_count": 9,
   "metadata": {},
   "outputs": [],
   "source": [
    "decision_tree_model = DecisionTreeClassifier(max_depth = grid_search.best_params_['max_depth']).fit(x_train, y_train)"
   ]
  },
  {
   "cell_type": "code",
   "execution_count": 10,
   "metadata": {},
   "outputs": [],
   "source": [
    "y_pred = decision_tree_model.predict(x_test)"
   ]
  },
  {
   "cell_type": "code",
   "execution_count": 11,
   "metadata": {},
   "outputs": [
    {
     "name": "stdout",
     "output_type": "stream",
     "text": [
      "Test data count:  143\n",
      "accuracy score:  0.8251748251748252\n",
      "accuracy count:  118\n",
      "precision:  0.8787878787878788\n",
      "recall:  0.58\n",
      "\n"
     ]
    }
   ],
   "source": [
    "summarize_classification(y_test, y_pred)"
   ]
  },
  {
   "cell_type": "code",
   "execution_count": 12,
   "metadata": {},
   "outputs": [
    {
     "data": {
      "text/plain": [
       "{'C': 5, 'penalty': 'l2'}"
      ]
     },
     "execution_count": 12,
     "metadata": {},
     "output_type": "execute_result"
    }
   ],
   "source": [
    "parameters = {'penalty': ['l1', 'l2'],\n",
    "              'C': [0.1,0.4,0.8,1,2,5]}\n",
    "\n",
    "grid_search = GridSearchCV(LogisticRegression(solver='liblinear'), parameters, cv=3, return_train_score = True)\n",
    "grid_search.fit(x_train, y_train)\n",
    "\n",
    "grid_search.best_params_"
   ]
  },
  {
   "cell_type": "code",
   "execution_count": 13,
   "metadata": {},
   "outputs": [
    {
     "name": "stdout",
     "output_type": "stream",
     "text": [
      "Parameters:  {'C': 0.1, 'penalty': 'l1'}\n",
      "Mean Test Score:  0.7495269587581519\n",
      "Rank:  12\n",
      "Parameters:  {'C': 0.1, 'penalty': 'l2'}\n",
      "Mean Test Score:  0.7722972352346836\n",
      "Rank:  11\n",
      "Parameters:  {'C': 0.4, 'penalty': 'l1'}\n",
      "Mean Test Score:  0.7792229264260128\n",
      "Rank:  7\n",
      "Parameters:  {'C': 0.4, 'penalty': 'l2'}\n",
      "Mean Test Score:  0.7757600808303481\n",
      "Rank:  9\n",
      "Parameters:  {'C': 0.8, 'penalty': 'l1'}\n",
      "Mean Test Score:  0.7809956829245889\n",
      "Rank:  6\n",
      "Parameters:  {'C': 0.8, 'penalty': 'l2'}\n",
      "Mean Test Score:  0.7757692660971801\n",
      "Rank:  8\n",
      "Parameters:  {'C': 1, 'penalty': 'l1'}\n",
      "Mean Test Score:  0.7810048681914209\n",
      "Rank:  5\n",
      "Parameters:  {'C': 1, 'penalty': 'l2'}\n",
      "Mean Test Score:  0.7740240653990997\n",
      "Rank:  10\n",
      "Parameters:  {'C': 2, 'penalty': 'l1'}\n",
      "Mean Test Score:  0.7862496555524938\n",
      "Rank:  2\n",
      "Parameters:  {'C': 2, 'penalty': 'l2'}\n",
      "Mean Test Score:  0.781032423991917\n",
      "Rank:  4\n",
      "Parameters:  {'C': 5, 'penalty': 'l1'}\n",
      "Mean Test Score:  0.7845136401212455\n",
      "Rank:  3\n",
      "Parameters:  {'C': 5, 'penalty': 'l2'}\n",
      "Mean Test Score:  0.7897676127491504\n",
      "Rank:  1\n"
     ]
    }
   ],
   "source": [
    "for i in range(12):\n",
    "    print('Parameters: ', grid_search.cv_results_['params'][i])\n",
    "    \n",
    "    print('Mean Test Score: ', grid_search.cv_results_['mean_test_score'][i])\n",
    "    \n",
    "    print('Rank: ', grid_search.cv_results_['rank_test_score'][i])"
   ]
  },
  {
   "cell_type": "code",
   "execution_count": 15,
   "metadata": {},
   "outputs": [],
   "source": [
    "logistic_model = LogisticRegression(solver='liblinear', penalty = grid_search.best_params_['penalty'],\n",
    "                                    C=grid_search.best_params_['C']).fit(x_train, y_train)"
   ]
  },
  {
   "cell_type": "code",
   "execution_count": 16,
   "metadata": {},
   "outputs": [],
   "source": [
    "y_pred = logistic_model.predict(x_test)"
   ]
  },
  {
   "cell_type": "code",
   "execution_count": 17,
   "metadata": {},
   "outputs": [
    {
     "name": "stdout",
     "output_type": "stream",
     "text": [
      "Test data count:  143\n",
      "accuracy score:  0.8181818181818182\n",
      "accuracy count:  117\n",
      "precision:  0.74\n",
      "recall:  0.74\n",
      "\n"
     ]
    }
   ],
   "source": [
    "summarize_classification(y_test, y_pred)"
   ]
  },
  {
   "cell_type": "code",
   "execution_count": null,
   "metadata": {},
   "outputs": [],
   "source": []
  }
 ],
 "metadata": {
  "kernelspec": {
   "display_name": "Python 3",
   "language": "python",
   "name": "python3"
  },
  "language_info": {
   "codemirror_mode": {
    "name": "ipython",
    "version": 3
   },
   "file_extension": ".py",
   "mimetype": "text/x-python",
   "name": "python",
   "nbconvert_exporter": "python",
   "pygments_lexer": "ipython3",
   "version": "3.7.7"
  }
 },
 "nbformat": 4,
 "nbformat_minor": 4
}
