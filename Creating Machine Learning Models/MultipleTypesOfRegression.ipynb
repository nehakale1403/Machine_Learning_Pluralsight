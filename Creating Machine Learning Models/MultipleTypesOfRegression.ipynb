{
 "cells": [
  {
   "cell_type": "code",
   "execution_count": 4,
   "metadata": {},
   "outputs": [],
   "source": [
    "import pandas as pd\n",
    "import matplotlib.pyplot as plt\n",
    "\n",
    "from sklearn.model_selection import train_test_split\n",
    "from sklearn.metrics import r2_score"
   ]
  },
  {
   "cell_type": "code",
   "execution_count": 5,
   "metadata": {},
   "outputs": [
    {
     "data": {
      "text/html": [
       "<div>\n",
       "<style scoped>\n",
       "    .dataframe tbody tr th:only-of-type {\n",
       "        vertical-align: middle;\n",
       "    }\n",
       "\n",
       "    .dataframe tbody tr th {\n",
       "        vertical-align: top;\n",
       "    }\n",
       "\n",
       "    .dataframe thead th {\n",
       "        text-align: right;\n",
       "    }\n",
       "</style>\n",
       "<table border=\"1\" class=\"dataframe\">\n",
       "  <thead>\n",
       "    <tr style=\"text-align: right;\">\n",
       "      <th></th>\n",
       "      <th>price</th>\n",
       "      <th>cut_Fair</th>\n",
       "      <th>cut_Good</th>\n",
       "      <th>cut_Ideal</th>\n",
       "      <th>cut_Premium</th>\n",
       "      <th>cut_Very Good</th>\n",
       "      <th>color_D</th>\n",
       "      <th>color_E</th>\n",
       "      <th>color_F</th>\n",
       "      <th>color_G</th>\n",
       "      <th>color_H</th>\n",
       "      <th>color_I</th>\n",
       "      <th>color_J</th>\n",
       "      <th>carat</th>\n",
       "      <th>depth</th>\n",
       "      <th>table</th>\n",
       "      <th>x</th>\n",
       "      <th>y</th>\n",
       "      <th>z</th>\n",
       "    </tr>\n",
       "    <tr>\n",
       "      <th>clarity</th>\n",
       "      <th></th>\n",
       "      <th></th>\n",
       "      <th></th>\n",
       "      <th></th>\n",
       "      <th></th>\n",
       "      <th></th>\n",
       "      <th></th>\n",
       "      <th></th>\n",
       "      <th></th>\n",
       "      <th></th>\n",
       "      <th></th>\n",
       "      <th></th>\n",
       "      <th></th>\n",
       "      <th></th>\n",
       "      <th></th>\n",
       "      <th></th>\n",
       "      <th></th>\n",
       "      <th></th>\n",
       "      <th></th>\n",
       "    </tr>\n",
       "  </thead>\n",
       "  <tbody>\n",
       "    <tr>\n",
       "      <th>7</th>\n",
       "      <td>13060</td>\n",
       "      <td>0</td>\n",
       "      <td>0</td>\n",
       "      <td>1</td>\n",
       "      <td>0</td>\n",
       "      <td>0</td>\n",
       "      <td>0</td>\n",
       "      <td>0</td>\n",
       "      <td>1</td>\n",
       "      <td>0</td>\n",
       "      <td>0</td>\n",
       "      <td>0</td>\n",
       "      <td>0</td>\n",
       "      <td>0.543531</td>\n",
       "      <td>-0.010463</td>\n",
       "      <td>-0.649443</td>\n",
       "      <td>0.672804</td>\n",
       "      <td>0.748388</td>\n",
       "      <td>0.703836</td>\n",
       "    </tr>\n",
       "    <tr>\n",
       "      <th>2</th>\n",
       "      <td>9515</td>\n",
       "      <td>0</td>\n",
       "      <td>0</td>\n",
       "      <td>0</td>\n",
       "      <td>0</td>\n",
       "      <td>1</td>\n",
       "      <td>0</td>\n",
       "      <td>0</td>\n",
       "      <td>0</td>\n",
       "      <td>1</td>\n",
       "      <td>0</td>\n",
       "      <td>0</td>\n",
       "      <td>0</td>\n",
       "      <td>1.504355</td>\n",
       "      <td>0.336188</td>\n",
       "      <td>0.235172</td>\n",
       "      <td>1.326341</td>\n",
       "      <td>1.397924</td>\n",
       "      <td>1.413741</td>\n",
       "    </tr>\n",
       "    <tr>\n",
       "      <th>6</th>\n",
       "      <td>945</td>\n",
       "      <td>0</td>\n",
       "      <td>0</td>\n",
       "      <td>1</td>\n",
       "      <td>0</td>\n",
       "      <td>0</td>\n",
       "      <td>0</td>\n",
       "      <td>0</td>\n",
       "      <td>0</td>\n",
       "      <td>1</td>\n",
       "      <td>0</td>\n",
       "      <td>0</td>\n",
       "      <td>0</td>\n",
       "      <td>-0.929733</td>\n",
       "      <td>0.266858</td>\n",
       "      <td>-0.649443</td>\n",
       "      <td>-1.010276</td>\n",
       "      <td>-1.037833</td>\n",
       "      <td>-0.991245</td>\n",
       "    </tr>\n",
       "    <tr>\n",
       "      <th>7</th>\n",
       "      <td>918</td>\n",
       "      <td>0</td>\n",
       "      <td>0</td>\n",
       "      <td>1</td>\n",
       "      <td>0</td>\n",
       "      <td>0</td>\n",
       "      <td>0</td>\n",
       "      <td>0</td>\n",
       "      <td>0</td>\n",
       "      <td>1</td>\n",
       "      <td>0</td>\n",
       "      <td>0</td>\n",
       "      <td>0</td>\n",
       "      <td>-1.015140</td>\n",
       "      <td>-0.218453</td>\n",
       "      <td>-1.091751</td>\n",
       "      <td>-1.171422</td>\n",
       "      <td>-1.164132</td>\n",
       "      <td>-1.179588</td>\n",
       "    </tr>\n",
       "    <tr>\n",
       "      <th>3</th>\n",
       "      <td>486</td>\n",
       "      <td>0</td>\n",
       "      <td>0</td>\n",
       "      <td>1</td>\n",
       "      <td>0</td>\n",
       "      <td>0</td>\n",
       "      <td>0</td>\n",
       "      <td>0</td>\n",
       "      <td>0</td>\n",
       "      <td>0</td>\n",
       "      <td>1</td>\n",
       "      <td>0</td>\n",
       "      <td>0</td>\n",
       "      <td>-1.057843</td>\n",
       "      <td>0.544179</td>\n",
       "      <td>-1.887904</td>\n",
       "      <td>-1.287805</td>\n",
       "      <td>-1.254345</td>\n",
       "      <td>-1.223051</td>\n",
       "    </tr>\n",
       "  </tbody>\n",
       "</table>\n",
       "</div>"
      ],
      "text/plain": [
       "         price  cut_Fair  cut_Good  cut_Ideal  cut_Premium  cut_Very Good  \\\n",
       "clarity                                                                     \n",
       "7        13060         0         0          1            0              0   \n",
       "2         9515         0         0          0            0              1   \n",
       "6          945         0         0          1            0              0   \n",
       "7          918         0         0          1            0              0   \n",
       "3          486         0         0          1            0              0   \n",
       "\n",
       "         color_D  color_E  color_F  color_G  color_H  color_I  color_J  \\\n",
       "clarity                                                                  \n",
       "7              0        0        1        0        0        0        0   \n",
       "2              0        0        0        1        0        0        0   \n",
       "6              0        0        0        1        0        0        0   \n",
       "7              0        0        0        1        0        0        0   \n",
       "3              0        0        0        0        1        0        0   \n",
       "\n",
       "            carat     depth     table         x         y         z  \n",
       "clarity                                                              \n",
       "7        0.543531 -0.010463 -0.649443  0.672804  0.748388  0.703836  \n",
       "2        1.504355  0.336188  0.235172  1.326341  1.397924  1.413741  \n",
       "6       -0.929733  0.266858 -0.649443 -1.010276 -1.037833 -0.991245  \n",
       "7       -1.015140 -0.218453 -1.091751 -1.171422 -1.164132 -1.179588  \n",
       "3       -1.057843  0.544179 -1.887904 -1.287805 -1.254345 -1.223051  "
      ]
     },
     "execution_count": 5,
     "metadata": {},
     "output_type": "execute_result"
    }
   ],
   "source": [
    "data = pd.read_csv('datasets/diamonds_processed.csv', index_col = 0)\n",
    "\n",
    "data.head()"
   ]
  },
  {
   "cell_type": "code",
   "execution_count": 6,
   "metadata": {},
   "outputs": [],
   "source": [
    "from sklearn.linear_model import LinearRegression\n",
    "\n",
    "def linear_model(x_train, y_train):\n",
    "    \n",
    "    print('Linear Regression ')\n",
    "    linear_regression = LinearRegression()\n",
    "    linear_regression.fit(x_train, y_train)\n",
    "    \n",
    "    return linear_regression  "
   ]
  },
  {
   "cell_type": "code",
   "execution_count": 7,
   "metadata": {},
   "outputs": [],
   "source": [
    "from sklearn.linear_model import Lasso\n",
    "\n",
    "def lasso_model(x_train, y_train):\n",
    "    \n",
    "    print('Lasso Regression ')\n",
    "    lasso_regression = Lasso(alpha = 0.8, max_iter=10000)\n",
    "    lasso_regression.fit(x_train, y_train)\n",
    "    \n",
    "    return lasso_regression  "
   ]
  },
  {
   "cell_type": "code",
   "execution_count": 8,
   "metadata": {},
   "outputs": [],
   "source": [
    "from sklearn.linear_model import Ridge\n",
    "\n",
    "def ridge_model(x_train, y_train):\n",
    "    \n",
    "    print('Ridge Regression ')\n",
    "    ridge_regression = Ridge(alpha = 0.9)\n",
    "    ridge_regression.fit(x_train, y_train)\n",
    "    \n",
    "    return ridge_regression  "
   ]
  },
  {
   "cell_type": "code",
   "execution_count": 9,
   "metadata": {},
   "outputs": [],
   "source": [
    "def build_and_train_model(data, target_name, reg_fn):\n",
    "    \n",
    "    x = data.drop(target_name, axis=1)\n",
    "    y = data[target_name]\n",
    "    \n",
    "    x_train, x_test, y_train, y_test = train_test_split(x,y,test_size = 0.2, random_state = 0)\n",
    "    \n",
    "    model = reg_fn(x_train, y_train)\n",
    "    \n",
    "    score = model.score(x_train, y_train)\n",
    "    print('Training score: ',score)\n",
    "    \n",
    "    y_pred = model.predict(x_test)\n",
    "    r_score = r2_score(y_test, y_pred)\n",
    "    print(\"Testing score: \", r_score)\n",
    "    \n",
    "    return {\n",
    "        'model': model,\n",
    "        'x_train': x_train, 'x_test': x_test,\n",
    "        'y_train': y_train, 'y_test': y_test,\n",
    "        'y_pred': y_pred\n",
    "    }\n",
    "    "
   ]
  },
  {
   "cell_type": "code",
   "execution_count": 10,
   "metadata": {},
   "outputs": [
    {
     "name": "stdout",
     "output_type": "stream",
     "text": [
      "Linear Regression \n",
      "Training score:  0.8851728566150202\n",
      "Testing score:  0.8912331731687105\n"
     ]
    }
   ],
   "source": [
    "linear_reg = build_and_train_model(data, \"price\", linear_model)"
   ]
  },
  {
   "cell_type": "code",
   "execution_count": 11,
   "metadata": {},
   "outputs": [
    {
     "name": "stdout",
     "output_type": "stream",
     "text": [
      "Lasso Regression \n",
      "Training score:  0.88512163460472\n",
      "Testing score:  0.8909577607451442\n"
     ]
    }
   ],
   "source": [
    "lasso_reg = build_and_train_model(data, \"price\", lasso_model)"
   ]
  },
  {
   "cell_type": "code",
   "execution_count": 12,
   "metadata": {},
   "outputs": [
    {
     "name": "stdout",
     "output_type": "stream",
     "text": [
      "Ridge Regression \n",
      "Training score:  0.885186798316436\n",
      "Testing score:  0.8911688255480525\n"
     ]
    }
   ],
   "source": [
    "ridge_reg = build_and_train_model(data, \"price\", ridge_model)"
   ]
  },
  {
   "cell_type": "code",
   "execution_count": 13,
   "metadata": {},
   "outputs": [
    {
     "data": {
      "text/plain": [
       "LinearRegression()"
      ]
     },
     "execution_count": 13,
     "metadata": {},
     "output_type": "execute_result"
    }
   ],
   "source": [
    "linear_reg['model']"
   ]
  },
  {
   "cell_type": "code",
   "execution_count": 14,
   "metadata": {},
   "outputs": [],
   "source": [
    "# regression using sgd\n",
    "\n",
    "from sklearn.linear_model import SGDRegressor\n",
    "\n",
    "def sgd_model(x_train, y_train):\n",
    "    print('SGD regression')\n",
    "    sgd_regression = SGDRegressor(max_iter = 2000)\n",
    "    \n",
    "    sgd_regression.fit(x_train, y_train)\n",
    "    \n",
    "    return sgd_regression"
   ]
  },
  {
   "cell_type": "code",
   "execution_count": 15,
   "metadata": {},
   "outputs": [
    {
     "name": "stdout",
     "output_type": "stream",
     "text": [
      "SGD regression\n",
      "Training score:  0.8843091342520767\n",
      "Testing score:  0.8898640071396412\n"
     ]
    }
   ],
   "source": [
    "sgd_reg = build_and_train_model(data, \"price\", sgd_model)"
   ]
  },
  {
   "cell_type": "code",
   "execution_count": null,
   "metadata": {},
   "outputs": [],
   "source": []
  }
 ],
 "metadata": {
  "kernelspec": {
   "display_name": "Python 3",
   "language": "python",
   "name": "python3"
  },
  "language_info": {
   "codemirror_mode": {
    "name": "ipython",
    "version": 3
   },
   "file_extension": ".py",
   "mimetype": "text/x-python",
   "name": "python",
   "nbconvert_exporter": "python",
   "pygments_lexer": "ipython3",
   "version": "3.7.7"
  }
 },
 "nbformat": 4,
 "nbformat_minor": 4
}
